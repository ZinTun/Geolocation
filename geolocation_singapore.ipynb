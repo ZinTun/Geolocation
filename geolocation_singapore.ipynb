{
  "nbformat": 4,
  "nbformat_minor": 0,
  "metadata": {
    "colab": {
      "name": "geolocation_singapore.ipynb",
      "provenance": [],
      "collapsed_sections": [],
      "authorship_tag": "ABX9TyMazlMHSWosD1H4812dyKmp",
      "include_colab_link": true
    },
    "kernelspec": {
      "name": "python3",
      "display_name": "Python 3"
    },
    "language_info": {
      "name": "python"
    }
  },
  "cells": [
    {
      "cell_type": "markdown",
      "metadata": {
        "id": "view-in-github",
        "colab_type": "text"
      },
      "source": [
        "<a href=\"https://colab.research.google.com/github/ZinTun/Geolocation/blob/main/geolocation_singapore.ipynb\" target=\"_parent\"><img src=\"https://colab.research.google.com/assets/colab-badge.svg\" alt=\"Open In Colab\"/></a>"
      ]
    },
    {
      "cell_type": "code",
      "metadata": {
        "colab": {
          "base_uri": "https://localhost:8080/"
        },
        "id": "y6TObHbi8FqD",
        "outputId": "e43322ec-32b9-49fb-ec96-3aad813aec69"
      },
      "source": [
        "!pip install geopandas\n",
        "!pip install pyproj\n",
        "from pyproj import Proj, transform\n",
        "from pyproj import CRS\n",
        "import geopandas as gpd\n",
        "import pandas as pd\n",
        "import matplotlib.pyplot as plt"
      ],
      "execution_count": 22,
      "outputs": [
        {
          "output_type": "stream",
          "text": [
            "Requirement already satisfied: geopandas in /usr/local/lib/python3.7/dist-packages (0.9.0)\n",
            "Requirement already satisfied: fiona>=1.8 in /usr/local/lib/python3.7/dist-packages (from geopandas) (1.8.18)\n",
            "Requirement already satisfied: pyproj>=2.2.0 in /usr/local/lib/python3.7/dist-packages (from geopandas) (3.0.1)\n",
            "Requirement already satisfied: pandas>=0.24.0 in /usr/local/lib/python3.7/dist-packages (from geopandas) (1.1.5)\n",
            "Requirement already satisfied: shapely>=1.6 in /usr/local/lib/python3.7/dist-packages (from geopandas) (1.7.1)\n",
            "Requirement already satisfied: click<8,>=4.0 in /usr/local/lib/python3.7/dist-packages (from fiona>=1.8->geopandas) (7.1.2)\n",
            "Requirement already satisfied: click-plugins>=1.0 in /usr/local/lib/python3.7/dist-packages (from fiona>=1.8->geopandas) (1.1.1)\n",
            "Requirement already satisfied: certifi in /usr/local/lib/python3.7/dist-packages (from fiona>=1.8->geopandas) (2020.12.5)\n",
            "Requirement already satisfied: cligj>=0.5 in /usr/local/lib/python3.7/dist-packages (from fiona>=1.8->geopandas) (0.7.1)\n",
            "Requirement already satisfied: munch in /usr/local/lib/python3.7/dist-packages (from fiona>=1.8->geopandas) (2.5.0)\n",
            "Requirement already satisfied: attrs>=17 in /usr/local/lib/python3.7/dist-packages (from fiona>=1.8->geopandas) (20.3.0)\n",
            "Requirement already satisfied: six>=1.7 in /usr/local/lib/python3.7/dist-packages (from fiona>=1.8->geopandas) (1.15.0)\n",
            "Requirement already satisfied: pytz>=2017.2 in /usr/local/lib/python3.7/dist-packages (from pandas>=0.24.0->geopandas) (2018.9)\n",
            "Requirement already satisfied: numpy>=1.15.4 in /usr/local/lib/python3.7/dist-packages (from pandas>=0.24.0->geopandas) (1.19.5)\n",
            "Requirement already satisfied: python-dateutil>=2.7.3 in /usr/local/lib/python3.7/dist-packages (from pandas>=0.24.0->geopandas) (2.8.1)\n",
            "Requirement already satisfied: pyproj in /usr/local/lib/python3.7/dist-packages (3.0.1)\n",
            "Requirement already satisfied: certifi in /usr/local/lib/python3.7/dist-packages (from pyproj) (2020.12.5)\n"
          ],
          "name": "stdout"
        }
      ]
    },
    {
      "cell_type": "markdown",
      "metadata": {
        "id": "1pFmcV9LJehk"
      },
      "source": [
        ""
      ]
    },
    {
      "cell_type": "code",
      "metadata": {
        "colab": {
          "base_uri": "https://localhost:8080/"
        },
        "id": "jEYhAsf8sUj6",
        "outputId": "139c7531-8013-4371-c87e-65735ed63fe7"
      },
      "source": [
        "CRS(\"WGS84\")"
      ],
      "execution_count": 23,
      "outputs": [
        {
          "output_type": "execute_result",
          "data": {
            "text/plain": [
              "<Geographic 2D CRS: EPSG:4326>\n",
              "Name: WGS 84\n",
              "Axis Info [ellipsoidal]:\n",
              "- Lat[north]: Geodetic latitude (degree)\n",
              "- Lon[east]: Geodetic longitude (degree)\n",
              "Area of Use:\n",
              "- name: World.\n",
              "- bounds: (-180.0, -90.0, 180.0, 90.0)\n",
              "Datum: World Geodetic System 1984\n",
              "- Ellipsoid: WGS 84\n",
              "- Prime Meridian: Greenwich"
            ]
          },
          "metadata": {
            "tags": []
          },
          "execution_count": 23
        }
      ]
    },
    {
      "cell_type": "markdown",
      "metadata": {
        "id": "0aslmbIxrPrV"
      },
      "source": [
        "Read shapefiles"
      ]
    },
    {
      "cell_type": "code",
      "metadata": {
        "id": "qRv4jPZCmOGS",
        "colab": {
          "base_uri": "https://localhost:8080/",
          "height": 564
        },
        "outputId": "fbed015c-7302-4762-ca5e-490fef263062"
      },
      "source": [
        "data = gpd.read_file('./sample_data/Subzone_Census2010.shp')\n",
        "#check attributes of shapefile\n",
        "data.head()"
      ],
      "execution_count": 24,
      "outputs": [
        {
          "output_type": "execute_result",
          "data": {
            "text/html": [
              "<div>\n",
              "<style scoped>\n",
              "    .dataframe tbody tr th:only-of-type {\n",
              "        vertical-align: middle;\n",
              "    }\n",
              "\n",
              "    .dataframe tbody tr th {\n",
              "        vertical-align: top;\n",
              "    }\n",
              "\n",
              "    .dataframe thead th {\n",
              "        text-align: right;\n",
              "    }\n",
              "</style>\n",
              "<table border=\"1\" class=\"dataframe\">\n",
              "  <thead>\n",
              "    <tr style=\"text-align: right;\">\n",
              "      <th></th>\n",
              "      <th>OBJECTID</th>\n",
              "      <th>SUBZONE_NO</th>\n",
              "      <th>SUBZONE_N</th>\n",
              "      <th>SUBZONE_C</th>\n",
              "      <th>CA_IND</th>\n",
              "      <th>PLN_AREA_N</th>\n",
              "      <th>PLN_AREA_C</th>\n",
              "      <th>REGION_N</th>\n",
              "      <th>REGION_C</th>\n",
              "      <th>INC_CRC</th>\n",
              "      <th>FMEL_UPD_D</th>\n",
              "      <th>X_ADDR</th>\n",
              "      <th>Y_ADDR</th>\n",
              "      <th>SHAPE_Leng</th>\n",
              "      <th>SHAPE_Area</th>\n",
              "      <th>geometry</th>\n",
              "    </tr>\n",
              "  </thead>\n",
              "  <tbody>\n",
              "    <tr>\n",
              "      <th>0</th>\n",
              "      <td>1</td>\n",
              "      <td>7</td>\n",
              "      <td>MAXWELL</td>\n",
              "      <td>DTSZ07</td>\n",
              "      <td>Y</td>\n",
              "      <td>DOWNTOWN CORE</td>\n",
              "      <td>DT</td>\n",
              "      <td>CENTRAL REGION</td>\n",
              "      <td>CR</td>\n",
              "      <td>5E3B7679E895F85B</td>\n",
              "      <td>2014-05-02</td>\n",
              "      <td>29392.0489</td>\n",
              "      <td>29096.7515</td>\n",
              "      <td>1419.802555</td>\n",
              "      <td>6.366418e+04</td>\n",
              "      <td>POLYGON ((29537.863 29134.544, 29522.459 29103...</td>\n",
              "    </tr>\n",
              "    <tr>\n",
              "      <th>1</th>\n",
              "      <td>2</td>\n",
              "      <td>1</td>\n",
              "      <td>TANGLIN</td>\n",
              "      <td>ORSZ01</td>\n",
              "      <td>Y</td>\n",
              "      <td>ORCHARD</td>\n",
              "      <td>OR</td>\n",
              "      <td>CENTRAL REGION</td>\n",
              "      <td>CR</td>\n",
              "      <td>3EC2B9D55537C009</td>\n",
              "      <td>2014-05-02</td>\n",
              "      <td>27162.8757</td>\n",
              "      <td>31905.7324</td>\n",
              "      <td>1864.488709</td>\n",
              "      <td>1.675371e+05</td>\n",
              "      <td>POLYGON ((27418.706 31881.413, 27410.555 31879...</td>\n",
              "    </tr>\n",
              "    <tr>\n",
              "      <th>2</th>\n",
              "      <td>3</td>\n",
              "      <td>2</td>\n",
              "      <td>BOULEVARD</td>\n",
              "      <td>ORSZ02</td>\n",
              "      <td>Y</td>\n",
              "      <td>ORCHARD</td>\n",
              "      <td>OR</td>\n",
              "      <td>CENTRAL REGION</td>\n",
              "      <td>CR</td>\n",
              "      <td>0937E2A5F54A1C53</td>\n",
              "      <td>2014-05-02</td>\n",
              "      <td>27916.9271</td>\n",
              "      <td>31967.0064</td>\n",
              "      <td>4109.231492</td>\n",
              "      <td>4.605504e+05</td>\n",
              "      <td>POLYGON ((28366.552 31855.703, 28359.125 31841...</td>\n",
              "    </tr>\n",
              "    <tr>\n",
              "      <th>3</th>\n",
              "      <td>4</td>\n",
              "      <td>3</td>\n",
              "      <td>SOMERSET</td>\n",
              "      <td>ORSZ03</td>\n",
              "      <td>Y</td>\n",
              "      <td>ORCHARD</td>\n",
              "      <td>OR</td>\n",
              "      <td>CENTRAL REGION</td>\n",
              "      <td>CR</td>\n",
              "      <td>1C1A0326CE13A8B1</td>\n",
              "      <td>2014-05-02</td>\n",
              "      <td>28626.5610</td>\n",
              "      <td>31494.9048</td>\n",
              "      <td>3039.805140</td>\n",
              "      <td>3.294379e+05</td>\n",
              "      <td>POLYGON ((28882.434 31681.820, 28882.436 31681...</td>\n",
              "    </tr>\n",
              "    <tr>\n",
              "      <th>4</th>\n",
              "      <td>5</td>\n",
              "      <td>3</td>\n",
              "      <td>PASIR RIS TOWN</td>\n",
              "      <td>PRSZ03</td>\n",
              "      <td>N</td>\n",
              "      <td>PASIR RIS</td>\n",
              "      <td>PR</td>\n",
              "      <td>EAST REGION</td>\n",
              "      <td>ER</td>\n",
              "      <td>37EABA55C9A79089</td>\n",
              "      <td>2014-05-02</td>\n",
              "      <td>40755.8307</td>\n",
              "      <td>39341.7432</td>\n",
              "      <td>5273.291429</td>\n",
              "      <td>1.511612e+06</td>\n",
              "      <td>POLYGON ((41290.234 39671.558, 41291.480 39656...</td>\n",
              "    </tr>\n",
              "  </tbody>\n",
              "</table>\n",
              "</div>"
            ],
            "text/plain": [
              "   OBJECTID  ...                                           geometry\n",
              "0         1  ...  POLYGON ((29537.863 29134.544, 29522.459 29103...\n",
              "1         2  ...  POLYGON ((27418.706 31881.413, 27410.555 31879...\n",
              "2         3  ...  POLYGON ((28366.552 31855.703, 28359.125 31841...\n",
              "3         4  ...  POLYGON ((28882.434 31681.820, 28882.436 31681...\n",
              "4         5  ...  POLYGON ((41290.234 39671.558, 41291.480 39656...\n",
              "\n",
              "[5 rows x 16 columns]"
            ]
          },
          "metadata": {
            "tags": []
          },
          "execution_count": 24
        }
      ]
    },
    {
      "cell_type": "code",
      "metadata": {
        "colab": {
          "base_uri": "https://localhost:8080/"
        },
        "id": "gVoAIb1PVzTc",
        "outputId": "ddcddde6-96bc-4c32-83e1-1f90b9db943d"
      },
      "source": [
        "data.shape"
      ],
      "execution_count": 25,
      "outputs": [
        {
          "output_type": "execute_result",
          "data": {
            "text/plain": [
              "(311, 16)"
            ]
          },
          "metadata": {
            "tags": []
          },
          "execution_count": 25
        }
      ]
    },
    {
      "cell_type": "code",
      "metadata": {
        "colab": {
          "base_uri": "https://localhost:8080/"
        },
        "id": "cy-XcvHXU5t1",
        "outputId": "1ccfba08-3f2a-4ddd-9a05-2b60db9b2838"
      },
      "source": [
        "data.REGION_N.value_counts()"
      ],
      "execution_count": 26,
      "outputs": [
        {
          "output_type": "execute_result",
          "data": {
            "text/plain": [
              "CENTRAL REGION       134\n",
              "WEST REGION           71\n",
              "NORTH REGION          41\n",
              "NORTH-EAST REGION     36\n",
              "EAST REGION           29\n",
              "Name: REGION_N, dtype: int64"
            ]
          },
          "metadata": {
            "tags": []
          },
          "execution_count": 26
        }
      ]
    },
    {
      "cell_type": "code",
      "metadata": {
        "colab": {
          "base_uri": "https://localhost:8080/"
        },
        "id": "ou517Dd9VWE7",
        "outputId": "21eddb76-5bca-450c-844e-373c191431b4"
      },
      "source": [
        "data.PLN_AREA_N.value_counts()"
      ],
      "execution_count": 27,
      "outputs": [
        {
          "output_type": "execute_result",
          "data": {
            "text/plain": [
              "BUKIT MERAH                17\n",
              "QUEENSTOWN                 15\n",
              "TOA PAYOH                  12\n",
              "DOWNTOWN CORE              12\n",
              "ROCHOR                     10\n",
              "JURONG EAST                10\n",
              "ANG MO KIO                 10\n",
              "WOODLANDS                   9\n",
              "KALLANG                     9\n",
              "CLEMENTI                    9\n",
              "YISHUN                      9\n",
              "JURONG WEST                 9\n",
              "SEMBAWANG                   9\n",
              "BUKIT BATOK                 9\n",
              "BEDOK                       8\n",
              "BUKIT TIMAH                 8\n",
              "PASIR RIS                   7\n",
              "BUKIT PANJANG               7\n",
              "CHOA CHU KANG               7\n",
              "HOUGANG                     7\n",
              "SENGKANG                    7\n",
              "NEWTON                      6\n",
              "PUNGGOL                     6\n",
              "TUAS                        6\n",
              "RIVER VALLEY                5\n",
              "NOVENA                      5\n",
              "PIONEER                     5\n",
              "SUNGEI KADUT                5\n",
              "GEYLANG                     5\n",
              "MARINE PARADE               5\n",
              "TAMPINES                    5\n",
              "PAYA LEBAR                  5\n",
              "BOON LAY                    4\n",
              "TANGLIN                     4\n",
              "SERANGOON                   4\n",
              "OUTRAM                      4\n",
              "SIMPANG                     4\n",
              "BISHAN                      3\n",
              "WESTERN ISLANDS             3\n",
              "MUSEUM                      3\n",
              "CHANGI                      3\n",
              "ORCHARD                     3\n",
              "SINGAPORE RIVER             3\n",
              "MANDAI                      3\n",
              "SOUTHERN ISLANDS            2\n",
              "NORTH EASTERN ISLANDS       1\n",
              "MARINA EAST                 1\n",
              "LIM CHU KANG                1\n",
              "SELETAR                     1\n",
              "STRAITS VIEW                1\n",
              "CHANGI BAY                  1\n",
              "MARINA SOUTH                1\n",
              "CENTRAL WATER CATCHMENT     1\n",
              "TENGAH                      1\n",
              "WESTERN WATER CATCHMENT     1\n",
              "Name: PLN_AREA_N, dtype: int64"
            ]
          },
          "metadata": {
            "tags": []
          },
          "execution_count": 27
        }
      ]
    },
    {
      "cell_type": "code",
      "metadata": {
        "colab": {
          "base_uri": "https://localhost:8080/"
        },
        "id": "0ARKujqr8h9J",
        "outputId": "647872e3-cb2d-4050-91ec-0b94bd36e9db"
      },
      "source": [
        "data.crs"
      ],
      "execution_count": 28,
      "outputs": [
        {
          "output_type": "execute_result",
          "data": {
            "text/plain": [
              "<Projected CRS: PROJCS[\"SVY21\",GEOGCS[\"SVY21[WGS84]\",DATUM[\"WGS_19 ...>\n",
              "Name: SVY21\n",
              "Axis Info [cartesian]:\n",
              "- E[east]: Easting (Meter)\n",
              "- N[north]: Northing (Meter)\n",
              "Area of Use:\n",
              "- undefined\n",
              "Coordinate Operation:\n",
              "- name: unnamed\n",
              "- method: Transverse Mercator\n",
              "Datum: World Geodetic System 1984\n",
              "- Ellipsoid: WGS_84\n",
              "- Prime Meridian: Greenwich"
            ]
          },
          "metadata": {
            "tags": []
          },
          "execution_count": 28
        }
      ]
    },
    {
      "cell_type": "code",
      "metadata": {
        "colab": {
          "base_uri": "https://localhost:8080/"
        },
        "id": "JdabHD1MB36k",
        "outputId": "58fbf23d-5360-4140-9c7f-053bb9bcc3d6"
      },
      "source": [
        "# Reproject the data to (WGS84: Longitude, Latitude) from (SYV21: X, Y / Easting, Northing)\n",
        "data_epsg4326 = data.to_crs(epsg=4326)\n",
        "data_epsg4326.crs"
      ],
      "execution_count": 29,
      "outputs": [
        {
          "output_type": "execute_result",
          "data": {
            "text/plain": [
              "<Geographic 2D CRS: EPSG:4326>\n",
              "Name: WGS 84\n",
              "Axis Info [ellipsoidal]:\n",
              "- Lat[north]: Geodetic latitude (degree)\n",
              "- Lon[east]: Geodetic longitude (degree)\n",
              "Area of Use:\n",
              "- name: World.\n",
              "- bounds: (-180.0, -90.0, 180.0, 90.0)\n",
              "Datum: World Geodetic System 1984\n",
              "- Ellipsoid: WGS 84\n",
              "- Prime Meridian: Greenwich"
            ]
          },
          "metadata": {
            "tags": []
          },
          "execution_count": 29
        }
      ]
    },
    {
      "cell_type": "code",
      "metadata": {
        "colab": {
          "base_uri": "https://localhost:8080/",
          "height": 281
        },
        "id": "NFM4z5c5Un9I",
        "outputId": "1947d919-c2cc-49e1-e1d7-2d0e6e63a402"
      },
      "source": [
        "data_epsg4326.plot()"
      ],
      "execution_count": 30,
      "outputs": [
        {
          "output_type": "execute_result",
          "data": {
            "text/plain": [
              "<matplotlib.axes._subplots.AxesSubplot at 0x7f14f1c9bd50>"
            ]
          },
          "metadata": {
            "tags": []
          },
          "execution_count": 30
        },
        {
          "output_type": "display_data",
          "data": {
            "image/png": "[encoded data removed]",
            "text/plain": [
              "<Figure size 432x288 with 1 Axes>"
            ]
          },
          "metadata": {
            "tags": [],
            "needs_background": "light"
          }
        }
      ]
    },
    {
      "cell_type": "code",
      "metadata": {
        "id": "WisIiWHliErw"
      },
      "source": [
        "### create data frame for foreword coffee shops in Singapore\n",
        "points = {'lon': [103.84641649036132,103.79179003028473,103.84734632523997],\n",
        "        'lat': [1.2991758476816657,1.3096752738430557,1.3221847883703268],\n",
        "        'address':[\"28 Orchard Rd, Singapore 238832\",\"31 North Buona Vista Rd, Singapore 275983\",\"18 Jln Tan Tock Seng, Level 4 Centre for Healthcare Innovation Singapore 308443\"]\n",
        "        }\n",
        "df=[]\n",
        "df = pd.DataFrame(points, columns = ['lon','lat','address','SUBZONE_N','PLN_AREA_N','REGION_N','OBJECTID'])\n",
        "### convert dataframe into geodataframe\n",
        "data_foreword= gpd.GeoDataFrame(\n",
        "    df, geometry=gpd.points_from_xy(df.lon, df.lat))"
      ],
      "execution_count": 31,
      "outputs": []
    },
    {
      "cell_type": "code",
      "metadata": {
        "id": "dqOeYdcI7Kzr"
      },
      "source": [
        "for i, r in data_foreword.iterrows(): # Looping over all points\n",
        "  point = r.geometry\n",
        "  for index, row in data_epsg4326.iterrows(): # Looping over all polygons\n",
        "      if point.within(row.geometry) :\n",
        "        data_foreword.iloc[i,3:7] = data_epsg4326.iloc[index,[2,5,7,0]]\n",
        "        break;"
      ],
      "execution_count": 32,
      "outputs": []
    },
    {
      "cell_type": "code",
      "metadata": {
        "colab": {
          "base_uri": "https://localhost:8080/",
          "height": 193
        },
        "id": "BEW6TBLY9Dq7",
        "outputId": "2cc1f96b-cadf-434a-829a-40656af8b977"
      },
      "source": [
        "data_foreword.head()"
      ],
      "execution_count": 33,
      "outputs": [
        {
          "output_type": "execute_result",
          "data": {
            "text/html": [
              "<div>\n",
              "<style scoped>\n",
              "    .dataframe tbody tr th:only-of-type {\n",
              "        vertical-align: middle;\n",
              "    }\n",
              "\n",
              "    .dataframe tbody tr th {\n",
              "        vertical-align: top;\n",
              "    }\n",
              "\n",
              "    .dataframe thead th {\n",
              "        text-align: right;\n",
              "    }\n",
              "</style>\n",
              "<table border=\"1\" class=\"dataframe\">\n",
              "  <thead>\n",
              "    <tr style=\"text-align: right;\">\n",
              "      <th></th>\n",
              "      <th>lon</th>\n",
              "      <th>lat</th>\n",
              "      <th>address</th>\n",
              "      <th>SUBZONE_N</th>\n",
              "      <th>PLN_AREA_N</th>\n",
              "      <th>REGION_N</th>\n",
              "      <th>OBJECTID</th>\n",
              "      <th>geometry</th>\n",
              "    </tr>\n",
              "  </thead>\n",
              "  <tbody>\n",
              "    <tr>\n",
              "      <th>0</th>\n",
              "      <td>103.846416</td>\n",
              "      <td>1.299176</td>\n",
              "      <td>28 Orchard Rd, Singapore 238832</td>\n",
              "      <td>DHOBY GHAUT</td>\n",
              "      <td>MUSEUM</td>\n",
              "      <td>CENTRAL REGION</td>\n",
              "      <td>39</td>\n",
              "      <td>POINT (103.84642 1.29918)</td>\n",
              "    </tr>\n",
              "    <tr>\n",
              "      <th>1</th>\n",
              "      <td>103.791790</td>\n",
              "      <td>1.309675</td>\n",
              "      <td>31 North Buona Vista Rd, Singapore 275983</td>\n",
              "      <td>HOLLAND DRIVE</td>\n",
              "      <td>QUEENSTOWN</td>\n",
              "      <td>CENTRAL REGION</td>\n",
              "      <td>101</td>\n",
              "      <td>POINT (103.79179 1.30968)</td>\n",
              "    </tr>\n",
              "    <tr>\n",
              "      <th>2</th>\n",
              "      <td>103.847346</td>\n",
              "      <td>1.322185</td>\n",
              "      <td>18 Jln Tan Tock Seng, Level 4 Centre for Healt...</td>\n",
              "      <td>MOULMEIN</td>\n",
              "      <td>NOVENA</td>\n",
              "      <td>CENTRAL REGION</td>\n",
              "      <td>310</td>\n",
              "      <td>POINT (103.84735 1.32218)</td>\n",
              "    </tr>\n",
              "  </tbody>\n",
              "</table>\n",
              "</div>"
            ],
            "text/plain": [
              "          lon       lat  ... OBJECTID                   geometry\n",
              "0  103.846416  1.299176  ...       39  POINT (103.84642 1.29918)\n",
              "1  103.791790  1.309675  ...      101  POINT (103.79179 1.30968)\n",
              "2  103.847346  1.322185  ...      310  POINT (103.84735 1.32218)\n",
              "\n",
              "[3 rows x 8 columns]"
            ]
          },
          "metadata": {
            "tags": []
          },
          "execution_count": 33
        }
      ]
    },
    {
      "cell_type": "code",
      "metadata": {
        "colab": {
          "base_uri": "https://localhost:8080/",
          "height": 278
        },
        "id": "6cLe18kP8_Ap",
        "outputId": "3d1a2bda-f049-489b-c905-ed7388da5784"
      },
      "source": [
        "fig, ax = plt.subplots()\n",
        "data_epsg4326.plot(ax=ax)\n",
        "data_foreword.plot(categorical=True,\n",
        "           legend=True,\n",
        "           figsize=(10, 6),\n",
        "           markersize=40,\n",
        "           marker='*',\n",
        "           cmap=\"Set2\",\n",
        "           ax=ax)\n",
        "ax.set_title('Foreword Coffee Shops\\nSingapore')\n",
        "plt.axis('off')\n",
        "plt.show()\n"
      ],
      "execution_count": 34,
      "outputs": [
        {
          "output_type": "display_data",
          "data": {
            "image/png": "[encoded data removed]",
            "text/plain": [
              "<Figure size 432x288 with 1 Axes>"
            ]
          },
          "metadata": {
            "tags": [],
            "needs_background": "light"
          }
        }
      ]
    }
  ]
}